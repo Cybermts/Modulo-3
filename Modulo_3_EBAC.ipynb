{
  "nbformat": 4,
  "nbformat_minor": 0,
  "metadata": {
    "colab": {
      "provenance": [],
      "authorship_tag": "ABX9TyPIA/I8X69diwAf8URtsnnE"
    },
    "kernelspec": {
      "name": "python3",
      "display_name": "Python 3"
    },
    "language_info": {
      "name": "python"
    }
  },
  "cells": [
    {
      "cell_type": "markdown",
      "source": [
        "**1\n",
        "Dados de interação de usuários com propagandas\n",
        "online**\n",
        "\n",
        "\n",
        "Na lista propaganda_online abaixo, estão presente os dados de usuários que acessaram\n",
        "um determinado site e se o mesmo clicou em uma propaganda.\n"
      ],
      "metadata": {
        "id": "RikWcUYW6TYl"
      }
    },
    {
      "cell_type": "code",
      "source": [
        "propaganda_online = [\n",
        " {'tempo_gasto_site': 68.95, 'idade': 35, 'renda_area': 61833.90,\n",
        " 'tempo_gasto_internet': 256.09, 'cidade': 'Wrightburgh',\n",
        " 'pais': 'Tunisia', 'clicou_no_ad': 0\n",
        " },\n",
        " {'tempo_gasto_site': 80.23, 'idade': 31, 'renda_area': 68441.85,\n",
        " 'tempo_gasto_internet': 193.77, 'cidade': 'West Jodi',\n",
        " 'pais': 'Nauru', 'clicou_no_ad': 0\n",
        " },\n",
        " {'tempo_gasto_site': 69.47, 'idade': 26, 'renda_area': 59785.94,\n",
        " 'tempo_gasto_internet': 236.50, 'cidade': 'Davidton',\n",
        " 'pais': 'San Marino', 'clicou_no_ad': 0\n",
        " },\n",
        " {'tempo_gasto_site': 68.37, 'idade': 35, 'renda_area': 73889.99,\n",
        " 'tempo_gasto_internet': 225.58, 'cidade': 'South Manuel',\n",
        " 'pais': 'Iceland', 'clicou_no_ad': 0\n",
        " },\n",
        " {'tempo_gasto_site': 88.91, 'idade': 33, 'renda_area': 53852.85,\n",
        "  'tempo_gasto_internet': 208.36, 'cidade': 'Brandonstad',\n",
        " 'pais': 'Myanmar', 'clicou_no_ad': 0\n",
        " },\n",
        " {'tempo_gasto_site': None, 'idade': 48, 'renda_area': 24593.33,\n",
        " 'tempo_gasto_internet': 131.76, 'cidade': 'Port Jefferybury',\n",
        " 'pais': 'Australia', 'clicou_no_ad': 1\n",
        " },\n",
        " {'tempo_gasto_site': 74.53, 'idade': 30, 'renda_area': 68862.00,\n",
        " 'tempo_gasto_internet': 221.51, 'cidade': 'West Colin',\n",
        " 'pais': 'Grenada'},\n",
        " {'tempo_gasto_site': 69.88, 'idade': 20, 'renda_area': 55642.32,\n",
        " 'tempo_gasto_internet': 183.82, 'cidade': 'Ramirezton',\n",
        " 'pais': 'Ghana', 'clicou_no_ad': 0\n",
        " }\n",
        "]"
      ],
      "metadata": {
        "id": "YiPo0mxi6iuN"
      },
      "execution_count": null,
      "outputs": []
    },
    {
      "cell_type": "markdown",
      "source": [
        "Para iterar pelos elementos da lista, use o código abaixo.\n",
        "\n",
        "for dado_de_usuario in propaganda_online:\n",
        " print(dado_de_usuario)"
      ],
      "metadata": {
        "id": "d_L31PI97jjW"
      }
    },
    {
      "cell_type": "markdown",
      "source": [
        "1.1. Crie uma lista chamada paises com o país dos usuários com mais de 30 anos.\n"
      ],
      "metadata": {
        "id": "MxO5ftAu70VZ"
      }
    },
    {
      "cell_type": "code",
      "source": [
        "paises = []\n",
        "for dado_de_usuario in propaganda_online:\n",
        "  if dado_de_usuario['idade'] >30:\n",
        "    paises.append(dado_de_usuario['pais'])\n",
        "    print (paises)\n"
      ],
      "metadata": {
        "colab": {
          "base_uri": "https://localhost:8080/"
        },
        "id": "Ap7ntJ7-KmdL",
        "outputId": "7a55c4af-fbfa-42be-8f37-8a7f176cbab0"
      },
      "execution_count": null,
      "outputs": [
        {
          "output_type": "stream",
          "name": "stdout",
          "text": [
            "['Tunisia']\n",
            "['Tunisia', 'Nauru']\n",
            "['Tunisia', 'Nauru', 'Iceland']\n",
            "['Tunisia', 'Nauru', 'Iceland', 'Myanmar']\n",
            "['Tunisia', 'Nauru', 'Iceland', 'Myanmar', 'Australia']\n"
          ]
        }
      ]
    },
    {
      "cell_type": "markdown",
      "source": [
        "1.2. Crie uma lista chamada leads com a renda dos usuários que clicaram na propaganda.\n"
      ],
      "metadata": {
        "id": "rPCr8tlDBbXI"
      }
    },
    {
      "cell_type": "code",
      "source": [
        "leads = []\n",
        "for dado_de_usuario in propaganda_online:\n",
        "  try:\n",
        "    if dado_de_usuario['clicou_no_ad']==1:\n",
        "\n",
        "      leads.append(dado_de_usuario['renda_area'])\n",
        "  except:\n",
        "    pass\n",
        "    print (leads)"
      ],
      "metadata": {
        "colab": {
          "base_uri": "https://localhost:8080/"
        },
        "id": "QLc-VUYasPBD",
        "outputId": "f69556a6-df45-4f9d-e89c-47ae58645a49"
      },
      "execution_count": null,
      "outputs": [
        {
          "output_type": "stream",
          "name": "stdout",
          "text": [
            "[24593.33]\n"
          ]
        }
      ]
    },
    {
      "cell_type": "markdown",
      "source": [
        "1.3. Crie uma lista chamada cidades com a cidade dos usuários que passaram mais de 70\n",
        "segundos no site."
      ],
      "metadata": {
        "id": "q6BaJZAxweL6"
      }
    },
    {
      "cell_type": "code",
      "source": [
        "cidades = []\n",
        "for dado_de_usuario in propaganda_online:\n",
        "  try:\n",
        "    if dado_de_usuario ['tempo_gasto_site'] > 70:\n",
        "      cidades.append(dado_de_usuario['cidade'])\n",
        "  except Exception:\n",
        "        print ('cidade de Port Jefferybury')\n",
        "\n",
        "  print (cidades)"
      ],
      "metadata": {
        "colab": {
          "base_uri": "https://localhost:8080/"
        },
        "id": "jmyjrjfqwdLe",
        "outputId": "e8da45ba-3505-417e-e1a3-1ba24fdacdc5"
      },
      "execution_count": null,
      "outputs": [
        {
          "output_type": "stream",
          "name": "stdout",
          "text": [
            "[]\n",
            "['West Jodi']\n",
            "['West Jodi']\n",
            "['West Jodi']\n",
            "['West Jodi', 'Brandonstad']\n",
            "cidade de Port Jefferybury\n",
            "['West Jodi', 'Brandonstad']\n",
            "['West Jodi', 'Brandonstad', 'West Colin']\n",
            "['West Jodi', 'Brandonstad', 'West Colin']\n"
          ]
        }
      ]
    }
  ]
}